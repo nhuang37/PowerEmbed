{
  "nbformat": 4,
  "nbformat_minor": 0,
  "metadata": {
    "colab": {
      "provenance": [],
      "collapsed_sections": [],
      "machine_shape": "hm",
      "authorship_tag": "ABX9TyNfR4UYEya6oudMu3/LSx5/",
      "include_colab_link": true
    },
    "kernelspec": {
      "name": "python3",
      "display_name": "Python 3"
    },
    "language_info": {
      "name": "python"
    }
  },
  "cells": [
    {
      "cell_type": "markdown",
      "metadata": {
        "id": "view-in-github",
        "colab_type": "text"
      },
      "source": [
        "<a href=\"https://colab.research.google.com/github/nhuang37/PowerEmbed/blob/main/power_convergence.ipynb\" target=\"_parent\"><img src=\"https://colab.research.google.com/assets/colab-badge.svg\" alt=\"Open In Colab\"/></a>"
      ]
    },
    {
      "cell_type": "code",
      "source": [
        "import math\n",
        "import random\n",
        "import os\n",
        "import numpy as np\n",
        "from numpy import linalg as LA\n",
        "import numpy.random as npr\n",
        "import scipy as sp\n",
        "import torch\n",
        "import torch.nn as nn\n",
        "import torch.nn.functional as F\n",
        "import networkx as nx\n",
        "import matplotlib.pyplot as plt\n",
        "%matplotlib inline\n",
        "from sklearn import svm\n",
        "from sklearn.discriminant_analysis import LinearDiscriminantAnalysis\n",
        "import pickle\n",
        "from scipy.sparse.linalg import eigsh, eigs\n",
        "from scipy.linalg import hadamard, subspace_angles\n",
        "import itertools"
      ],
      "metadata": {
        "id": "D54wdOhzKqMZ"
      },
      "execution_count": 1,
      "outputs": []
    },
    {
      "cell_type": "markdown",
      "source": [
        "### Common helper functions"
      ],
      "metadata": {
        "id": "H3LrEd-3jlXG"
      }
    },
    {
      "cell_type": "code",
      "source": [
        "def get_angle(x,y, sign=False):\n",
        "  '''\n",
        "  compute angle between vectors x and y\n",
        "  '''\n",
        "  x = x / LA.norm(x)\n",
        "  y = y / LA.norm(y)\n",
        "  with np.errstate(divide='ignore',invalid='ignore'):\n",
        "    rad = np.arccos(np.clip(np.dot(x,y), -1, 1))\n",
        "  angle = np.min((np.degrees(rad), 360-np.degrees(rad)))\n",
        "  if sign: #care about the direction, [0,180]\n",
        "    return angle\n",
        "  else: #modulo sign, [0,90]\n",
        "    return np.min((angle, 180-angle))\n",
        "\n",
        "def compute_pairs(emb_gnn, ASE):\n",
        "  '''\n",
        "  compute pairwise angles of GNN embedding and ASEs\n",
        "  '''\n",
        "  k = emb_gnn.shape[1]\n",
        "  angles = []\n",
        "  #combs = itertools.combinations(range(k), 2)\n",
        "  #for (i,j) in combs:\n",
        "  for i in range(emb_gnn.shape[1]):\n",
        "    min_angle = np.zeros(ASE.shape[1])\n",
        "    for j in range(ASE.shape[1]):\n",
        "      min_angle[j] = get_angle(emb_gnn[:,i], ASE[:,j])\n",
        "    angles.append(min_angle.min())\n",
        "  return np.array(angles)"
      ],
      "metadata": {
        "id": "I_b2biq5iAwJ"
      },
      "execution_count": 2,
      "outputs": []
    },
    {
      "cell_type": "code",
      "source": [
        "def power_iterate(g, feat, K, rw=False, include_feat=True, upper_tri=False):\n",
        "    \"\"\"\n",
        "    Precompute power-iterated features\n",
        "    g: graph, numpy array (n by n)\n",
        "    feat: features\n",
        "    Return: a list with length-K of feature matrices, each with shape (n by d)\n",
        "    If rw: use D^{-1}A instead of A as the graph operators\n",
        "    \"\"\"\n",
        "    if include_feat:\n",
        "      powers = [feat]\n",
        "    else:\n",
        "      powers = []\n",
        "    if rw:\n",
        "      Dinv = 1 / g.sum(axis=1) \n",
        "      g = g * Dinv[:, None] \n",
        "    for iter in range(K):\n",
        "      #message passing\n",
        "      tildeU = g @ feat \n",
        "      #normalization\n",
        "      if upper_tri:\n",
        "        normalizer = np.linalg.pinv(np.triu(tildeU.T @ tildeU))\n",
        "      else:\n",
        "        normalizer = np.linalg.pinv(tildeU.T @ tildeU)\n",
        "      feat = tildeU @ normalizer #scaled eigenvector (arbitrary rotated if upper_tri is False)\n",
        "      col_norm = np.linalg.norm(feat, axis=0)\n",
        "      powers.append(feat / col_norm)\n",
        "    return powers"
      ],
      "metadata": {
        "id": "wTwAVpMfiMYN"
      },
      "execution_count": 3,
      "outputs": []
    },
    {
      "cell_type": "code",
      "source": [
        "def construct_2BSBM(n, p, q, seed=0):\n",
        "  '''\n",
        "  Generate a random (n)-nodes symmetric 2-block SBM\n",
        "  '''\n",
        "  assert n % 2 == 0, \"must pass in even number of nodes\"\n",
        "  probs = [[p,q],[q,p]]\n",
        "  nvecs = [n//2, n//2]\n",
        "  graph = nx.stochastic_block_model(nvecs, probs, seed=seed)\n",
        "  return nx.to_numpy_array(graph)\n",
        "\n",
        "def construct_graph(n, nvecs, p_d, q_d, p_s, q_s, a, b, seed=0):\n",
        "  '''\n",
        "  Generate a random (n)-nodes 4-block symmetric SBM using probability matrix prob \n",
        "  n: total number of nodes\n",
        "  nvecs: number of nodes per block\n",
        "  p_d, q_d: dense block connectivity probability\n",
        "  p_s, q_s: sparse block connectivity probability\n",
        "  a, b: cross edges\n",
        "  probability matrix B:\n",
        "    [[p_d, q_d, a, b],[q_d, p_d, b, a],[a, b, p_s, q_s], [b, a, q_s, p_s]]\n",
        "  return DGL_graph; numpy adjacency matrix\n",
        "  '''\n",
        "  assert n % 4 == 0, \"must pass in node numbers that can be divided by 4 (4-block symmetric SBM!)\"\n",
        "  #sizes = [n//4, n//4, n//4, n//4]\n",
        "  probs = [[p_d, q_d, a, b],[q_d, p_d, b, a],[a, b, p_s, q_s], [b, a, q_s, p_s]]\n",
        "  graph = nx.stochastic_block_model(nvecs, probs, seed=seed)\n",
        "  return nx.to_numpy_array(graph)\n",
        "\n",
        "def gaussian_features(n, in_feats, cov_scale, mean_scale=1, seed=0):\n",
        "  '''\n",
        "  n: number of nodes per block\n",
        "  in_feats: input feature dimension\n",
        "  cov_scale: scaling factor for covariance matrix\n",
        "  return (2n x in_feats) feature matrix, where the first n rows are sample iid from N([1,...1], cov_scale*I), \n",
        "  the last n rows are sample iid from N([-1,...-1], cov_scale*I)\n",
        "  '''\n",
        "  np.random.seed(seed)\n",
        "  mean = mean_scale*np.ones(in_feats)\n",
        "  cov = cov_scale*np.eye(in_feats)\n",
        "  feat_1 = np.random.multivariate_normal(mean, cov, n//2)\n",
        "  feat_2 = np.random.multivariate_normal(-mean, cov, n//2)\n",
        "  features = np.concatenate((feat_1, feat_2), axis=0)\n",
        "  return features\n"
      ],
      "metadata": {
        "id": "WYByvXlQKsew"
      },
      "execution_count": 4,
      "outputs": []
    },
    {
      "cell_type": "code",
      "source": [
        "def feature_classify(features, Ys, train_mask):\n",
        "  '''\n",
        "  features: node features\n",
        "  Ys: classification label\n",
        "  train_mask: mask for trainingset\n",
        "  return: test_acc, Yhats (entry = train labels if available)\n",
        "  '''\n",
        "  #clf = svm.SVC(kernel='linear', max_iter=500)\n",
        "  K = min(len(np.unique(Ys))-1, features.shape[1])\n",
        "  clf = LinearDiscriminantAnalysis(n_components=K)\n",
        "  clf.fit(features[train_mask], Ys[train_mask])\n",
        "  Yhats = clf.predict(features)\n",
        "  Yhats[train_mask] = Ys[train_mask]\n",
        "  return clf.score(features[~train_mask], Ys[~train_mask]), len(Ys[~train_mask]), Yhats"
      ],
      "metadata": {
        "id": "Ad1NyVdVM3-A"
      },
      "execution_count": 5,
      "outputs": []
    },
    {
      "cell_type": "code",
      "source": [
        "def emb_ASE(A, k=2):\n",
        "  '''\n",
        "  ASE embedding\n",
        "  '''\n",
        "  # u, s, v = np.linalg.svd(A, hermitian=True)\n",
        "  # return u[:, :k] * s[:k]\n",
        "  evalues, evectors = eigsh(A, k=k)\n",
        "  return evectors[:, :k]\n",
        "\n",
        "def emb_covX(Xouter, k=2):\n",
        "  '''\n",
        "  top-k eigenvector of covariance\n",
        "  '''\n",
        "  evaluesX, evectorsX = eigsh(Xouter, k=k)\n",
        "  return evectorsX[:, :k]\n",
        "\n",
        "def emb_SGC(A, feats, k=2, n_layer=1):\n",
        "  '''\n",
        "  SGC embedding using identity (node identifier) as initial feature\n",
        "  A: with self-loop\n",
        "  '''\n",
        "  Dinv = 1 / A.sum(axis=1) \n",
        "  A_rw = A * Dinv[:, None] \n",
        "  out = feats\n",
        "  for layer in range(n_layer):\n",
        "    out = A_rw @ feats\n",
        "  return out\n",
        "\n"
      ],
      "metadata": {
        "id": "byufJmH7OpEQ"
      },
      "execution_count": 6,
      "outputs": []
    },
    {
      "cell_type": "markdown",
      "source": [
        "### PowerEmbed simulation"
      ],
      "metadata": {
        "id": "Tn7qZP01jYc-"
      }
    },
    {
      "cell_type": "code",
      "source": [
        "def test_power_iter(n, p, q, K, k=2, self_loop=True, runs=30, upper_tri=False):\n",
        "  results = []\n",
        "  for run in range(runs):\n",
        "    g = construct_2BSBM(n, p, q, seed=run)\n",
        "    #evalues, evectors = eigsh(g, k=k) #arbitrarily ordered\n",
        "    u, s, vh = np.linalg.svd(g, hermitian=True)\n",
        "    if self_loop:\n",
        "      g = g + np.eye(n)\n",
        "    X = np.random.rand(n,k)\n",
        "    powers = power_iterate(g, X, K, include_feat=False, upper_tri=upper_tri)\n",
        "    angles = np.zeros((K,k))\n",
        "    for t, u_est in enumerate(powers):\n",
        "      if upper_tri:\n",
        "        angles[t,0] = get_angle(u_est[:,0], u[:,0])\n",
        "        angles[t,1] = get_angle(u_est[:,1], u[:,1])\n",
        "      else:\n",
        "        angles[t,:] =  np.rad2deg(subspace_angles(u_est, u[:,:2]))\n",
        "      results.append(angles)\n",
        "  return np.array(results)\n",
        "\n",
        "def convergence_rate(evalue, K=2):\n",
        "  ratios = []\n",
        "  for k in range(K):\n",
        "    ratios.append((evalue[:,k+1]/evalue[:,k]).mean())\n",
        "  return ratios"
      ],
      "metadata": {
        "id": "E0WoRSErjdWZ"
      },
      "execution_count": 7,
      "outputs": []
    },
    {
      "cell_type": "code",
      "source": [
        "%%time\n",
        "K = 50\n",
        "n = 500\n",
        "test_power_runs_dense = test_power_iter(n=n, p=1/2, q=1/3, K=K)\n",
        "test_power_runs_med = test_power_iter(n=n, p=1/10, q=1/15, K=K)\n",
        "test_power_runs_sparse = test_power_iter(n=n, p=1/20, q=1/30, K=K)"
      ],
      "metadata": {
        "colab": {
          "base_uri": "https://localhost:8080/"
        },
        "id": "rdw6LC1clFVv",
        "outputId": "f4855285-8f20-4b30-b8b4-696b7dec17d6"
      },
      "execution_count": 8,
      "outputs": [
        {
          "output_type": "stream",
          "name": "stdout",
          "text": [
            "CPU times: user 29.9 s, sys: 39.5 s, total: 1min 9s\n",
            "Wall time: 25.3 s\n"
          ]
        }
      ]
    },
    {
      "cell_type": "code",
      "source": [
        "fig, axs = plt.subplots(ncols=3, sharex=True, sharey=True, figsize=(12,3), dpi=100)\n",
        "mean_dense = test_power_runs_dense.mean(axis=0)\n",
        "mean_med = test_power_runs_med.mean(axis=0)\n",
        "mean_sp = test_power_runs_sparse.mean(axis=0)\n",
        "for i, mean in enumerate([mean_dense, mean_med, mean_sp]):\n",
        "  axs[i].plot(np.arange(1,K+1), mean[:,0], label=r'angle($\\hat{u}_1$, $u_1$)')\n",
        "  axs[i].plot(np.arange(1,K+1), mean[:,1], label=r'angle($\\hat{u}_2$, $u_2$)')\n",
        "  axs[i].set_xlabel(\"Number of iterations L\")\n",
        "  axs[i].set_ylabel(\"angle\")\n",
        "\n",
        "axs[0].set_title(r'p=1/2, q=1/3')\n",
        "axs[1].set_title(r'p=1/10, q=1/15')\n",
        "axs[2].set_title(r'p=1/20, q=1/30')\n",
        "plt.legend()\n",
        "plt.show()"
      ],
      "metadata": {
        "colab": {
          "base_uri": "https://localhost:8080/",
          "height": 329
        },
        "id": "yubnt7Oumq_U",
        "outputId": "dd9f3012-eafc-4767-eb4a-406b8116774a"
      },
      "execution_count": 9,
      "outputs": [
        {
          "output_type": "display_data",
          "data": {
            "text/plain": [
              "<Figure size 1200x300 with 3 Axes>"
            ],
            "image/png": "[encoded data removed]"
          },
          "metadata": {
            "needs_background": "light"
          }
        }
      ]
    },
    {
      "cell_type": "code",
      "source": [],
      "metadata": {
        "id": "dDNVRnsxqPez"
      },
      "execution_count": 9,
      "outputs": []
    }
  ]
}